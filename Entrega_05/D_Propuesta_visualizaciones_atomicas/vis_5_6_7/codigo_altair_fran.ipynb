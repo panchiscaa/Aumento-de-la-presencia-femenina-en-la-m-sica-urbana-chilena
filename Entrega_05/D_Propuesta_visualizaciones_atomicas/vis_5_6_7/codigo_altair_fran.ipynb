{
  "nbformat": 4,
  "nbformat_minor": 0,
  "metadata": {
    "colab": {
      "provenance": []
    },
    "kernelspec": {
      "name": "python3",
      "display_name": "Python 3"
    },
    "language_info": {
      "name": "python"
    }
  },
  "cells": [
    {
      "cell_type": "code",
      "execution_count": null,
      "metadata": {
        "id": "Q3KaieCI3qNA"
      },
      "outputs": [],
      "source": []
    },
    {
      "cell_type": "code",
      "source": [
        "#Este codigo aparecio solo cuando conecte con drive\n",
        "from google.colab import drive\n",
        "drive.mount('/content/drive')"
      ],
      "metadata": {
        "colab": {
          "base_uri": "https://localhost:8080/"
        },
        "id": "zStL_rqBUVz9",
        "outputId": "6cb9b720-d47d-4347-a7b6-4a2068849afa"
      },
      "execution_count": null,
      "outputs": [
        {
          "output_type": "stream",
          "name": "stdout",
          "text": [
            "Mounted at /content/drive\n"
          ]
        }
      ]
    },
    {
      "cell_type": "code",
      "source": [
        "from google.colab import drive\n",
        "drive.mount('/content/drive')"
      ],
      "metadata": {
        "id": "WZG0eNMzUyGJ",
        "outputId": "10c1e97d-5186-4de2-bca9-02cb898d121e",
        "colab": {
          "base_uri": "https://localhost:8080/"
        }
      },
      "execution_count": 1,
      "outputs": [
        {
          "output_type": "stream",
          "name": "stdout",
          "text": [
            "Mounted at /content/drive\n"
          ]
        }
      ]
    },
    {
      "cell_type": "code",
      "source": [
        "# Importar bibliotecas necesarias\n",
        "import pandas as pd\n",
        "import altair as alt\n",
        "\n",
        "# Cargar el archivo CSV\n",
        "data = pd.read_csv(\"/content/drive/MyDrive/ColabNotebooksssss/Martinez_database.csv\")\n",
        "\n",
        "#Verificar las primeras 2 lineas de datos y elnombre de las columnas\n",
        "data.head(2)\n",
        "\n",
        "# Definir los artistas que quieres en azul (excluyendo Young Cister y Kidd Voodoo)\n",
        "artistas_azules = [\"Jere Klein\", \"Pailita\", \"Pablo Chill-e\", \"Cris MJ\"]\n",
        "\n",
        "# Filtrar los datos para excluir a Young Cister y Kidd Voodoo\n",
        "data_filtrada = data[~data['Nombre del artista'].isin([\"Young Cister\", \"Kidd Voodoo\"])]\n",
        "\n",
        "# Crear una nueva columna 'color_grupo' en los datos filtrados\n",
        "data_filtrada['color_grupo'] = data_filtrada['Nombre del artista'].apply(lambda artista: 'Hombres' if artista in artistas_azules else 'Mujeres')\n",
        "\n",
        "# Crear el gráfico de barras\n",
        "chart = alt.Chart(data_filtrada).mark_bar().encode(\n",
        "    x=alt.X('Nombre del artista:N', sort='-y', title='Nombre del artista'),\n",
        "    y=alt.Y('Oyentes mensuales en Spotify:Q', title='Oyentes mensuales en Spotify'),\n",
        "    color=alt.Color('color_grupo:N', scale=alt.Scale(domain=['Hombres', 'Mujeres'], range=['blue', 'pink']))\n",
        ").properties(\n",
        "    title='Oyentes mensuales en Spotify por artista',\n",
        "    width=600,\n",
        "    height=400\n",
        ")\n",
        "\n",
        "# Guardar el gráfico como archivo HTML para visualizarlo en un navegador\n",
        "chart.save('vishombresymujeres1.html')\n",
        "\n",
        "# Mostrar un mensaje indicando que el archivo ha sido creado\n",
        "print(\"El gráfico se ha guardado como 'vishombresymujeres1.html'. Ábrelo en un navegador para visualizarlo.\")"
      ],
      "metadata": {
        "colab": {
          "base_uri": "https://localhost:8080/"
        },
        "id": "k4dD_HPIU749",
        "outputId": "acb11729-e5d3-45f5-d43b-188c41c59afc"
      },
      "execution_count": 2,
      "outputs": [
        {
          "output_type": "stream",
          "name": "stdout",
          "text": [
            "El gráfico se ha guardado como 'vishombresymujeres1.html'. Ábrelo en un navegador para visualizarlo.\n"
          ]
        },
        {
          "output_type": "stream",
          "name": "stderr",
          "text": [
            "<ipython-input-2-95cb0efec4be>:18: SettingWithCopyWarning: \n",
            "A value is trying to be set on a copy of a slice from a DataFrame.\n",
            "Try using .loc[row_indexer,col_indexer] = value instead\n",
            "\n",
            "See the caveats in the documentation: https://pandas.pydata.org/pandas-docs/stable/user_guide/indexing.html#returning-a-view-versus-a-copy\n",
            "  data_filtrada['color_grupo'] = data_filtrada['Nombre del artista'].apply(lambda artista: 'Hombres' if artista in artistas_azules else 'Mujeres')\n",
            "/usr/local/lib/python3.10/dist-packages/altair/utils/core.py:384: FutureWarning: the convert_dtype parameter is deprecated and will be removed in a future version.  Do ``ser.astype(object).apply()`` instead if you want ``convert_dtype=False``.\n",
            "  col = df[col_name].apply(to_list_if_array, convert_dtype=False)\n",
            "/usr/local/lib/python3.10/dist-packages/altair/utils/core.py:384: FutureWarning: the convert_dtype parameter is deprecated and will be removed in a future version.  Do ``ser.astype(object).apply()`` instead if you want ``convert_dtype=False``.\n",
            "  col = df[col_name].apply(to_list_if_array, convert_dtype=False)\n",
            "/usr/local/lib/python3.10/dist-packages/altair/utils/core.py:384: FutureWarning: the convert_dtype parameter is deprecated and will be removed in a future version.  Do ``ser.astype(object).apply()`` instead if you want ``convert_dtype=False``.\n",
            "  col = df[col_name].apply(to_list_if_array, convert_dtype=False)\n",
            "/usr/local/lib/python3.10/dist-packages/altair/utils/core.py:384: FutureWarning: the convert_dtype parameter is deprecated and will be removed in a future version.  Do ``ser.astype(object).apply()`` instead if you want ``convert_dtype=False``.\n",
            "  col = df[col_name].apply(to_list_if_array, convert_dtype=False)\n",
            "/usr/local/lib/python3.10/dist-packages/altair/utils/core.py:384: FutureWarning: the convert_dtype parameter is deprecated and will be removed in a future version.  Do ``ser.astype(object).apply()`` instead if you want ``convert_dtype=False``.\n",
            "  col = df[col_name].apply(to_list_if_array, convert_dtype=False)\n",
            "/usr/local/lib/python3.10/dist-packages/altair/utils/core.py:384: FutureWarning: the convert_dtype parameter is deprecated and will be removed in a future version.  Do ``ser.astype(object).apply()`` instead if you want ``convert_dtype=False``.\n",
            "  col = df[col_name].apply(to_list_if_array, convert_dtype=False)\n",
            "/usr/local/lib/python3.10/dist-packages/altair/utils/core.py:384: FutureWarning: the convert_dtype parameter is deprecated and will be removed in a future version.  Do ``ser.astype(object).apply()`` instead if you want ``convert_dtype=False``.\n",
            "  col = df[col_name].apply(to_list_if_array, convert_dtype=False)\n",
            "/usr/local/lib/python3.10/dist-packages/altair/utils/core.py:384: FutureWarning: the convert_dtype parameter is deprecated and will be removed in a future version.  Do ``ser.astype(object).apply()`` instead if you want ``convert_dtype=False``.\n",
            "  col = df[col_name].apply(to_list_if_array, convert_dtype=False)\n"
          ]
        }
      ]
    },
    {
      "cell_type": "code",
      "source": [
        "# Crear el gráfico de barras usando \"Seguidores en spotify (aprox)\"\n",
        "chart = alt.Chart(data_filtrada).mark_bar().encode(\n",
        "    x=alt.X('Nombre del artista:N', sort='-y', title='Nombre del artista'),\n",
        "    y=alt.Y('Seguidores en spotify (aprox):Q', title='Seguidores en spotify (aprox)'),  # Cambiar la variable del eje Y\n",
        "    color=alt.Color('color_grupo:N', scale=alt.Scale(domain=['Hombres', 'Mujeres'], range=['blue', 'pink']))\n",
        ").properties(\n",
        "    title='Seguidores en spotify (aprox) por artista',  # Cambiar el título\n",
        "    width=600,\n",
        "    height=400\n",
        ")\n",
        "\n",
        "# Guardar el gráfico como archivo HTML para visualizarlo en un navegador\n",
        "chart.save('vishombresymujeres2.html')\n",
        "\n",
        "# Mostrar un mensaje indicando que el archivo ha sido creado\n",
        "print(\"El gráfico se ha guardado como 'vishombresymujeres2.html'. Ábrelo en un navegador para visualizarlo.\")"
      ],
      "metadata": {
        "colab": {
          "base_uri": "https://localhost:8080/"
        },
        "id": "nInZa52Tedoq",
        "outputId": "cf5e56df-6e33-4710-ff09-6403ffbf3c47"
      },
      "execution_count": 3,
      "outputs": [
        {
          "output_type": "stream",
          "name": "stdout",
          "text": [
            "El gráfico se ha guardado como 'vishombresymujeres2.html'. Ábrelo en un navegador para visualizarlo.\n"
          ]
        },
        {
          "output_type": "stream",
          "name": "stderr",
          "text": [
            "/usr/local/lib/python3.10/dist-packages/altair/utils/core.py:384: FutureWarning: the convert_dtype parameter is deprecated and will be removed in a future version.  Do ``ser.astype(object).apply()`` instead if you want ``convert_dtype=False``.\n",
            "  col = df[col_name].apply(to_list_if_array, convert_dtype=False)\n",
            "/usr/local/lib/python3.10/dist-packages/altair/utils/core.py:384: FutureWarning: the convert_dtype parameter is deprecated and will be removed in a future version.  Do ``ser.astype(object).apply()`` instead if you want ``convert_dtype=False``.\n",
            "  col = df[col_name].apply(to_list_if_array, convert_dtype=False)\n",
            "/usr/local/lib/python3.10/dist-packages/altair/utils/core.py:384: FutureWarning: the convert_dtype parameter is deprecated and will be removed in a future version.  Do ``ser.astype(object).apply()`` instead if you want ``convert_dtype=False``.\n",
            "  col = df[col_name].apply(to_list_if_array, convert_dtype=False)\n",
            "/usr/local/lib/python3.10/dist-packages/altair/utils/core.py:384: FutureWarning: the convert_dtype parameter is deprecated and will be removed in a future version.  Do ``ser.astype(object).apply()`` instead if you want ``convert_dtype=False``.\n",
            "  col = df[col_name].apply(to_list_if_array, convert_dtype=False)\n",
            "/usr/local/lib/python3.10/dist-packages/altair/utils/core.py:384: FutureWarning: the convert_dtype parameter is deprecated and will be removed in a future version.  Do ``ser.astype(object).apply()`` instead if you want ``convert_dtype=False``.\n",
            "  col = df[col_name].apply(to_list_if_array, convert_dtype=False)\n",
            "/usr/local/lib/python3.10/dist-packages/altair/utils/core.py:384: FutureWarning: the convert_dtype parameter is deprecated and will be removed in a future version.  Do ``ser.astype(object).apply()`` instead if you want ``convert_dtype=False``.\n",
            "  col = df[col_name].apply(to_list_if_array, convert_dtype=False)\n",
            "/usr/local/lib/python3.10/dist-packages/altair/utils/core.py:384: FutureWarning: the convert_dtype parameter is deprecated and will be removed in a future version.  Do ``ser.astype(object).apply()`` instead if you want ``convert_dtype=False``.\n",
            "  col = df[col_name].apply(to_list_if_array, convert_dtype=False)\n",
            "/usr/local/lib/python3.10/dist-packages/altair/utils/core.py:384: FutureWarning: the convert_dtype parameter is deprecated and will be removed in a future version.  Do ``ser.astype(object).apply()`` instead if you want ``convert_dtype=False``.\n",
            "  col = df[col_name].apply(to_list_if_array, convert_dtype=False)\n"
          ]
        }
      ]
    },
    {
      "cell_type": "code",
      "source": [
        "# Crear el gráfico de barras usando \"Seguidores en spotify (aprox)\"\n",
        "chart = alt.Chart(data_filtrada).mark_bar().encode(\n",
        "    x=alt.X('Nombre del artista:N', sort='-y', title='Nombre del artista'),\n",
        "    y=alt.Y('Seguidores en Instagram (aprox):Q', title='Seguidores en Instagram (aprox)'),  # Cambiar la variable del eje Y\n",
        "    color=alt.Color('color_grupo:N', scale=alt.Scale(domain=['Hombres', 'Mujeres'], range=['blue', 'pink']))\n",
        ").properties(\n",
        "    title='Seguidores en Instagram (aprox) por artista',  # Cambiar el título\n",
        "    width=600,\n",
        "    height=400\n",
        ")\n",
        "\n",
        "# Guardar el gráfico como archivo HTML para visualizarlo en un navegador\n",
        "chart.save('vishombresymujeres3.html')\n",
        "\n",
        "# Mostrar un mensaje indicando que el archivo ha sido creado\n",
        "print(\"El gráfico se ha guardado como 'vishombresymujeres3.html'. Ábrelo en un navegador para visualizarlo.\")"
      ],
      "metadata": {
        "colab": {
          "base_uri": "https://localhost:8080/"
        },
        "id": "Uq5AAsEPfsyo",
        "outputId": "4f4f2081-2484-4824-e904-5ff4eda1953f"
      },
      "execution_count": 4,
      "outputs": [
        {
          "output_type": "stream",
          "name": "stdout",
          "text": [
            "El gráfico se ha guardado como 'vishombresymujeres3.html'. Ábrelo en un navegador para visualizarlo.\n"
          ]
        },
        {
          "output_type": "stream",
          "name": "stderr",
          "text": [
            "/usr/local/lib/python3.10/dist-packages/altair/utils/core.py:384: FutureWarning: the convert_dtype parameter is deprecated and will be removed in a future version.  Do ``ser.astype(object).apply()`` instead if you want ``convert_dtype=False``.\n",
            "  col = df[col_name].apply(to_list_if_array, convert_dtype=False)\n",
            "/usr/local/lib/python3.10/dist-packages/altair/utils/core.py:384: FutureWarning: the convert_dtype parameter is deprecated and will be removed in a future version.  Do ``ser.astype(object).apply()`` instead if you want ``convert_dtype=False``.\n",
            "  col = df[col_name].apply(to_list_if_array, convert_dtype=False)\n",
            "/usr/local/lib/python3.10/dist-packages/altair/utils/core.py:384: FutureWarning: the convert_dtype parameter is deprecated and will be removed in a future version.  Do ``ser.astype(object).apply()`` instead if you want ``convert_dtype=False``.\n",
            "  col = df[col_name].apply(to_list_if_array, convert_dtype=False)\n",
            "/usr/local/lib/python3.10/dist-packages/altair/utils/core.py:384: FutureWarning: the convert_dtype parameter is deprecated and will be removed in a future version.  Do ``ser.astype(object).apply()`` instead if you want ``convert_dtype=False``.\n",
            "  col = df[col_name].apply(to_list_if_array, convert_dtype=False)\n",
            "/usr/local/lib/python3.10/dist-packages/altair/utils/core.py:384: FutureWarning: the convert_dtype parameter is deprecated and will be removed in a future version.  Do ``ser.astype(object).apply()`` instead if you want ``convert_dtype=False``.\n",
            "  col = df[col_name].apply(to_list_if_array, convert_dtype=False)\n",
            "/usr/local/lib/python3.10/dist-packages/altair/utils/core.py:384: FutureWarning: the convert_dtype parameter is deprecated and will be removed in a future version.  Do ``ser.astype(object).apply()`` instead if you want ``convert_dtype=False``.\n",
            "  col = df[col_name].apply(to_list_if_array, convert_dtype=False)\n",
            "/usr/local/lib/python3.10/dist-packages/altair/utils/core.py:384: FutureWarning: the convert_dtype parameter is deprecated and will be removed in a future version.  Do ``ser.astype(object).apply()`` instead if you want ``convert_dtype=False``.\n",
            "  col = df[col_name].apply(to_list_if_array, convert_dtype=False)\n",
            "/usr/local/lib/python3.10/dist-packages/altair/utils/core.py:384: FutureWarning: the convert_dtype parameter is deprecated and will be removed in a future version.  Do ``ser.astype(object).apply()`` instead if you want ``convert_dtype=False``.\n",
            "  col = df[col_name].apply(to_list_if_array, convert_dtype=False)\n"
          ]
        }
      ]
    }
  ]
}