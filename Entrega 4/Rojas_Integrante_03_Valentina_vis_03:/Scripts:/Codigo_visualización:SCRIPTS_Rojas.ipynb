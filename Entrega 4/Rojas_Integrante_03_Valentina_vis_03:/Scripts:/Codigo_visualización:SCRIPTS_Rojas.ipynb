{
  "nbformat": 4,
  "nbformat_minor": 0,
  "metadata": {
    "colab": {
      "provenance": []
    },
    "kernelspec": {
      "name": "python3",
      "display_name": "Python 3"
    },
    "language_info": {
      "name": "python"
    }
  },
  "cells": [
    {
      "cell_type": "code",
      "execution_count": null,
      "metadata": {
        "colab": {
          "base_uri": "https://localhost:8080/"
        },
        "id": "u8D6BPg9Z0BC",
        "outputId": "ab0e1674-9f01-4e0d-ea22-07f334b7ad85"
      },
      "outputs": [
        {
          "output_type": "stream",
          "name": "stdout",
          "text": [
            "Requirement already satisfied: altair in /usr/local/lib/python3.10/dist-packages (4.2.2)\n",
            "Requirement already satisfied: entrypoints in /usr/local/lib/python3.10/dist-packages (from altair) (0.4)\n",
            "Requirement already satisfied: jinja2 in /usr/local/lib/python3.10/dist-packages (from altair) (3.1.4)\n",
            "Requirement already satisfied: jsonschema>=3.0 in /usr/local/lib/python3.10/dist-packages (from altair) (4.23.0)\n",
            "Requirement already satisfied: numpy in /usr/local/lib/python3.10/dist-packages (from altair) (1.26.4)\n",
            "Requirement already satisfied: pandas>=0.18 in /usr/local/lib/python3.10/dist-packages (from altair) (2.2.2)\n",
            "Requirement already satisfied: toolz in /usr/local/lib/python3.10/dist-packages (from altair) (0.12.1)\n",
            "Requirement already satisfied: attrs>=22.2.0 in /usr/local/lib/python3.10/dist-packages (from jsonschema>=3.0->altair) (24.2.0)\n",
            "Requirement already satisfied: jsonschema-specifications>=2023.03.6 in /usr/local/lib/python3.10/dist-packages (from jsonschema>=3.0->altair) (2024.10.1)\n",
            "Requirement already satisfied: referencing>=0.28.4 in /usr/local/lib/python3.10/dist-packages (from jsonschema>=3.0->altair) (0.35.1)\n",
            "Requirement already satisfied: rpds-py>=0.7.1 in /usr/local/lib/python3.10/dist-packages (from jsonschema>=3.0->altair) (0.21.0)\n",
            "Requirement already satisfied: python-dateutil>=2.8.2 in /usr/local/lib/python3.10/dist-packages (from pandas>=0.18->altair) (2.8.2)\n",
            "Requirement already satisfied: pytz>=2020.1 in /usr/local/lib/python3.10/dist-packages (from pandas>=0.18->altair) (2024.2)\n",
            "Requirement already satisfied: tzdata>=2022.7 in /usr/local/lib/python3.10/dist-packages (from pandas>=0.18->altair) (2024.2)\n",
            "Requirement already satisfied: MarkupSafe>=2.0 in /usr/local/lib/python3.10/dist-packages (from jinja2->altair) (3.0.2)\n",
            "Requirement already satisfied: six>=1.5 in /usr/local/lib/python3.10/dist-packages (from python-dateutil>=2.8.2->pandas>=0.18->altair) (1.16.0)\n"
          ]
        }
      ],
      "source": [
        "pip install altair"
      ]
    },
    {
      "cell_type": "code",
      "source": [
        "import altair as alt\n",
        "import pandas as pd\n",
        "\n",
        "# DATA\n",
        "df = pd.read_csv('/content/drive/MyDrive/vale-data.csv')\n",
        "df.head(5)\n",
        "\n",
        "df = df.fillna(0)\n",
        "df.head(5)\n",
        "\n",
        "df_new = df.melt(id_vars=['Fecha'], var_name='categoria', value_name='cantidad')\n",
        "df_new.head(3)\n",
        "\n",
        "meses_dict = {'ENERO': '01', 'FEBRERO': '02', 'MARZO': '03', 'ABRIL': '04', 'MAYO': '05', 'JUNIO': '06', 'JULIO': '07', 'AGOSTO': '08', 'SEPTIEMBRE': '09', 'OCTUBRE': '10', 'NOVIEMBRE': '11', 'DICIEMBRE': '12'}\n",
        "\n",
        "df_new['Fecha'] = df_new['Fecha'].apply(lambda x: x.split(' ')[0] + '-' + meses_dict[x.split(' ')[1]])\n",
        "df_new.head(5)\n",
        "\n",
        "colors = ['#7fc97f','#beaed4','#fdc086']\n",
        "\n",
        "chart = alt.Chart(df_new).mark_bar().encode(\n",
        "    x='Fecha',\n",
        "    y='sum(cantidad)',\n",
        "    color='categoria'\n",
        ")\n",
        "\n",
        "chart.configure_range(\n",
        "    category=alt.RangeScheme(colors)\n",
        ")\n",
        "\n",
        "meses_faltantes = []\n",
        "for i in range(2020, 2024):\n",
        "    for j in range(1, 13):\n",
        "      # revisar si están en la columna fecha\n",
        "      if not df_new['Fecha'].str.contains(str(i) + '-' + str(j).zfill(2)).any():\n",
        "        meses_faltantes.append(str(i) + '-' + str(j).zfill(2))\n",
        "\n",
        "meses_faltantes\n",
        "for mes in meses_faltantes:\n",
        "    df_new.loc[len(df_new)] = [mes, 'solos', 0]\n",
        "    df_new.loc[len(df_new)] = [mes, 'Colaboraciones', 0]\n",
        "\n",
        "df_new.tail(10)\n",
        "\n",
        "colors = ['#7fc97f','#beaed4','#fdc086']\n",
        "\n",
        "\n",
        "\n",
        "new_var = alt.Chart(df_new).mark_bar().encode(\n",
        "    x=alt.X('Fecha:N', title='Meses', axis=alt.Axis(labelAngle=-45, labelPadding=10, labelBound=True)),\n",
        "    y=alt.Y('cantidad:Q', title='Cantidad de canciones',  axis=alt.Axis(tickMinStep=1), scale=alt.Scale(domainMax=5)),\n",
        "\n",
        "    tooltip=['Fecha','cantidad', 'categoria'],\n",
        ").properties(\n",
        "    height=200,\n",
        "    title='Canciones de artistas femeninas urbanas en el Top100 de Chile (Spotify)'\n",
        ")\n",
        "\n",
        "bars = new_var.mark_bar().encode(\n",
        "    color=alt.Color('categoria:N', title='Artista femenina en:'),\n",
        ")\n",
        "\n",
        "\n",
        "\n",
        "text = new_var.mark_text(\n",
        "    align='center',\n",
        "    baseline='middle',\n",
        "    dx=0,\n",
        "    dy=10,\n",
        "    color='black'\n",
        ").encode(\n",
        "    text='cantidad:Q',\n",
        "    opacity=alt.condition(alt.datum.cantidad > 0, alt.value(1), alt.value(0))\n",
        ")\n",
        "\n",
        "\n",
        "(bars + text).configure_range(\n",
        "    category=alt.RangeScheme(colors)\n",
        ")\n",
        "\n",
        "\n"
      ],
      "metadata": {
        "colab": {
          "base_uri": "https://localhost:8080/",
          "height": 407
        },
        "id": "B2MtFuZhXEI8",
        "outputId": "642b98f8-ef2e-4d16-b56f-d110bab8d05e"
      },
      "execution_count": 34,
      "outputs": [
        {
          "output_type": "stream",
          "name": "stderr",
          "text": [
            "/usr/local/lib/python3.10/dist-packages/altair/utils/core.py:384: FutureWarning: the convert_dtype parameter is deprecated and will be removed in a future version.  Do ``ser.astype(object).apply()`` instead if you want ``convert_dtype=False``.\n",
            "  col = df[col_name].apply(to_list_if_array, convert_dtype=False)\n",
            "/usr/local/lib/python3.10/dist-packages/altair/utils/core.py:384: FutureWarning: the convert_dtype parameter is deprecated and will be removed in a future version.  Do ``ser.astype(object).apply()`` instead if you want ``convert_dtype=False``.\n",
            "  col = df[col_name].apply(to_list_if_array, convert_dtype=False)\n"
          ]
        },
        {
          "output_type": "execute_result",
          "data": {
            "text/html": [
              "\n",
              "<div id=\"altair-viz-5bbcf86e471c4b81a575d98a165a91e4\"></div>\n",
              "<script type=\"text/javascript\">\n",
              "  var VEGA_DEBUG = (typeof VEGA_DEBUG == \"undefined\") ? {} : VEGA_DEBUG;\n",
              "  (function(spec, embedOpt){\n",
              "    let outputDiv = document.currentScript.previousElementSibling;\n",
              "    if (outputDiv.id !== \"altair-viz-5bbcf86e471c4b81a575d98a165a91e4\") {\n",
              "      outputDiv = document.getElementById(\"altair-viz-5bbcf86e471c4b81a575d98a165a91e4\");\n",
              "    }\n",
              "    const paths = {\n",
              "      \"vega\": \"https://cdn.jsdelivr.net/npm//vega@5?noext\",\n",
              "      \"vega-lib\": \"https://cdn.jsdelivr.net/npm//vega-lib?noext\",\n",
              "      \"vega-lite\": \"https://cdn.jsdelivr.net/npm//vega-lite@4.17.0?noext\",\n",
              "      \"vega-embed\": \"https://cdn.jsdelivr.net/npm//vega-embed@6?noext\",\n",
              "    };\n",
              "\n",
              "    function maybeLoadScript(lib, version) {\n",
              "      var key = `${lib.replace(\"-\", \"\")}_version`;\n",
              "      return (VEGA_DEBUG[key] == version) ?\n",
              "        Promise.resolve(paths[lib]) :\n",
              "        new Promise(function(resolve, reject) {\n",
              "          var s = document.createElement('script');\n",
              "          document.getElementsByTagName(\"head\")[0].appendChild(s);\n",
              "          s.async = true;\n",
              "          s.onload = () => {\n",
              "            VEGA_DEBUG[key] = version;\n",
              "            return resolve(paths[lib]);\n",
              "          };\n",
              "          s.onerror = () => reject(`Error loading script: ${paths[lib]}`);\n",
              "          s.src = paths[lib];\n",
              "        });\n",
              "    }\n",
              "\n",
              "    function showError(err) {\n",
              "      outputDiv.innerHTML = `<div class=\"error\" style=\"color:red;\">${err}</div>`;\n",
              "      throw err;\n",
              "    }\n",
              "\n",
              "    function displayChart(vegaEmbed) {\n",
              "      vegaEmbed(outputDiv, spec, embedOpt)\n",
              "        .catch(err => showError(`Javascript Error: ${err.message}<br>This usually means there's a typo in your chart specification. See the javascript console for the full traceback.`));\n",
              "    }\n",
              "\n",
              "    if(typeof define === \"function\" && define.amd) {\n",
              "      requirejs.config({paths});\n",
              "      require([\"vega-embed\"], displayChart, err => showError(`Error loading script: ${err.message}`));\n",
              "    } else {\n",
              "      maybeLoadScript(\"vega\", \"5\")\n",
              "        .then(() => maybeLoadScript(\"vega-lite\", \"4.17.0\"))\n",
              "        .then(() => maybeLoadScript(\"vega-embed\", \"6\"))\n",
              "        .catch(showError)\n",
              "        .then(() => displayChart(vegaEmbed));\n",
              "    }\n",
              "  })({\"config\": {\"view\": {\"continuousWidth\": 400, \"continuousHeight\": 300}, \"range\": {\"category\": [\"#7fc97f\", \"#beaed4\", \"#fdc086\"]}}, \"layer\": [{\"mark\": \"bar\", \"encoding\": {\"color\": {\"field\": \"categoria\", \"title\": \"Artista femenina en:\", \"type\": \"nominal\"}, \"tooltip\": [{\"field\": \"Fecha\", \"type\": \"nominal\"}, {\"field\": \"cantidad\", \"type\": \"quantitative\"}, {\"field\": \"categoria\", \"type\": \"nominal\"}], \"x\": {\"axis\": {\"labelAngle\": -45, \"labelBound\": true, \"labelPadding\": 10}, \"field\": \"Fecha\", \"title\": \"Meses\", \"type\": \"nominal\"}, \"y\": {\"axis\": {\"tickMinStep\": 1}, \"field\": \"cantidad\", \"scale\": {\"domainMax\": 5}, \"title\": \"Cantidad de canciones\", \"type\": \"quantitative\"}}, \"height\": 200, \"title\": \"Canciones de artistas femeninas urbanas en el Top100 de Chile (Spotify)\"}, {\"mark\": {\"type\": \"text\", \"align\": \"center\", \"baseline\": \"middle\", \"color\": \"black\", \"dx\": 0, \"dy\": 10}, \"encoding\": {\"opacity\": {\"condition\": {\"value\": 1, \"test\": \"(datum.cantidad > 0)\"}, \"value\": 0}, \"text\": {\"field\": \"cantidad\", \"type\": \"quantitative\"}, \"tooltip\": [{\"field\": \"Fecha\", \"type\": \"nominal\"}, {\"field\": \"cantidad\", \"type\": \"quantitative\"}, {\"field\": \"categoria\", \"type\": \"nominal\"}], \"x\": {\"axis\": {\"labelAngle\": -45, \"labelBound\": true, \"labelPadding\": 10}, \"field\": \"Fecha\", \"title\": \"Meses\", \"type\": \"nominal\"}, \"y\": {\"axis\": {\"tickMinStep\": 1}, \"field\": \"cantidad\", \"scale\": {\"domainMax\": 5}, \"title\": \"Cantidad de canciones\", \"type\": \"quantitative\"}}, \"height\": 200, \"title\": \"Canciones de artistas femeninas urbanas en el Top100 de Chile (Spotify)\"}], \"data\": {\"name\": \"data-08de0997e55649d63f22ccd7ab6757cd\"}, \"$schema\": \"https://vega.github.io/schema/vega-lite/v4.17.0.json\", \"datasets\": {\"data-08de0997e55649d63f22ccd7ab6757cd\": [{\"Fecha\": \"2020-08\", \"categoria\": \"solos\", \"cantidad\": 1.0}, {\"Fecha\": \"2020-12\", \"categoria\": \"solos\", \"cantidad\": 1.0}, {\"Fecha\": \"2020-01\", \"categoria\": \"solos\", \"cantidad\": 2.0}, {\"Fecha\": \"2020-02\", \"categoria\": \"solos\", \"cantidad\": 1.0}, {\"Fecha\": \"2020-07\", \"categoria\": \"solos\", \"cantidad\": 1.0}, {\"Fecha\": \"2020-06\", \"categoria\": \"solos\", \"cantidad\": 1.0}, {\"Fecha\": \"2020-05\", \"categoria\": \"solos\", \"cantidad\": 1.0}, {\"Fecha\": \"2020-11\", \"categoria\": \"solos\", \"cantidad\": 1.0}, {\"Fecha\": \"2020-10\", \"categoria\": \"solos\", \"cantidad\": 0.0}, {\"Fecha\": \"2021-04\", \"categoria\": \"solos\", \"cantidad\": 1.0}, {\"Fecha\": \"2021-01\", \"categoria\": \"solos\", \"cantidad\": 1.0}, {\"Fecha\": \"2021-06\", \"categoria\": \"solos\", \"cantidad\": 0.0}, {\"Fecha\": \"2021-03\", \"categoria\": \"solos\", \"cantidad\": 3.0}, {\"Fecha\": \"2021-05\", \"categoria\": \"solos\", \"cantidad\": 1.0}, {\"Fecha\": \"2022-08\", \"categoria\": \"solos\", \"cantidad\": 0.0}, {\"Fecha\": \"2022-12\", \"categoria\": \"solos\", \"cantidad\": 0.0}, {\"Fecha\": \"2022-07\", \"categoria\": \"solos\", \"cantidad\": 0.0}, {\"Fecha\": \"2022-11\", \"categoria\": \"solos\", \"cantidad\": 0.0}, {\"Fecha\": \"2022-10\", \"categoria\": \"solos\", \"cantidad\": 0.0}, {\"Fecha\": \"2022-09\", \"categoria\": \"solos\", \"cantidad\": 0.0}, {\"Fecha\": \"2023-12\", \"categoria\": \"solos\", \"cantidad\": 0.0}, {\"Fecha\": \"2023-01\", \"categoria\": \"solos\", \"cantidad\": 0.0}, {\"Fecha\": \"2023-02\", \"categoria\": \"solos\", \"cantidad\": 0.0}, {\"Fecha\": \"2023-03\", \"categoria\": \"solos\", \"cantidad\": 0.0}, {\"Fecha\": \"2023-11\", \"categoria\": \"solos\", \"cantidad\": 0.0}, {\"Fecha\": \"2023-10\", \"categoria\": \"solos\", \"cantidad\": 0.0}, {\"Fecha\": \"2024-04\", \"categoria\": \"solos\", \"cantidad\": 0.0}, {\"Fecha\": \"2024-08\", \"categoria\": \"solos\", \"cantidad\": 1.0}, {\"Fecha\": \"2024-01\", \"categoria\": \"solos\", \"cantidad\": 0.0}, {\"Fecha\": \"2024-02\", \"categoria\": \"solos\", \"cantidad\": 0.0}, {\"Fecha\": \"2024-07\", \"categoria\": \"solos\", \"cantidad\": 1.0}, {\"Fecha\": \"2024-06\", \"categoria\": \"solos\", \"cantidad\": 0.0}, {\"Fecha\": \"2024-03\", \"categoria\": \"solos\", \"cantidad\": 0.0}, {\"Fecha\": \"2024-05\", \"categoria\": \"solos\", \"cantidad\": 0.0}, {\"Fecha\": \"2024-10\", \"categoria\": \"solos\", \"cantidad\": 0.0}, {\"Fecha\": \"2024-09\", \"categoria\": \"solos\", \"cantidad\": 0.0}, {\"Fecha\": \"2020-08\", \"categoria\": \"Colaboraciones\", \"cantidad\": 0.0}, {\"Fecha\": \"2020-12\", \"categoria\": \"Colaboraciones\", \"cantidad\": 0.0}, {\"Fecha\": \"2020-01\", \"categoria\": \"Colaboraciones\", \"cantidad\": 1.0}, {\"Fecha\": \"2020-02\", \"categoria\": \"Colaboraciones\", \"cantidad\": 1.0}, {\"Fecha\": \"2020-07\", \"categoria\": \"Colaboraciones\", \"cantidad\": 0.0}, {\"Fecha\": \"2020-06\", \"categoria\": \"Colaboraciones\", \"cantidad\": 0.0}, {\"Fecha\": \"2020-05\", \"categoria\": \"Colaboraciones\", \"cantidad\": 0.0}, {\"Fecha\": \"2020-11\", \"categoria\": \"Colaboraciones\", \"cantidad\": 0.0}, {\"Fecha\": \"2020-10\", \"categoria\": \"Colaboraciones\", \"cantidad\": 1.0}, {\"Fecha\": \"2021-04\", \"categoria\": \"Colaboraciones\", \"cantidad\": 0.0}, {\"Fecha\": \"2021-01\", \"categoria\": \"Colaboraciones\", \"cantidad\": 0.0}, {\"Fecha\": \"2021-06\", \"categoria\": \"Colaboraciones\", \"cantidad\": 1.0}, {\"Fecha\": \"2021-03\", \"categoria\": \"Colaboraciones\", \"cantidad\": 0.0}, {\"Fecha\": \"2021-05\", \"categoria\": \"Colaboraciones\", \"cantidad\": 0.0}, {\"Fecha\": \"2022-08\", \"categoria\": \"Colaboraciones\", \"cantidad\": 1.0}, {\"Fecha\": \"2022-12\", \"categoria\": \"Colaboraciones\", \"cantidad\": 2.0}, {\"Fecha\": \"2022-07\", \"categoria\": \"Colaboraciones\", \"cantidad\": 1.0}, {\"Fecha\": \"2022-11\", \"categoria\": \"Colaboraciones\", \"cantidad\": 1.0}, {\"Fecha\": \"2022-10\", \"categoria\": \"Colaboraciones\", \"cantidad\": 1.0}, {\"Fecha\": \"2022-09\", \"categoria\": \"Colaboraciones\", \"cantidad\": 1.0}, {\"Fecha\": \"2023-12\", \"categoria\": \"Colaboraciones\", \"cantidad\": 1.0}, {\"Fecha\": \"2023-01\", \"categoria\": \"Colaboraciones\", \"cantidad\": 2.0}, {\"Fecha\": \"2023-02\", \"categoria\": \"Colaboraciones\", \"cantidad\": 3.0}, {\"Fecha\": \"2023-03\", \"categoria\": \"Colaboraciones\", \"cantidad\": 1.0}, {\"Fecha\": \"2023-11\", \"categoria\": \"Colaboraciones\", \"cantidad\": 1.0}, {\"Fecha\": \"2023-10\", \"categoria\": \"Colaboraciones\", \"cantidad\": 1.0}, {\"Fecha\": \"2024-04\", \"categoria\": \"Colaboraciones\", \"cantidad\": 2.0}, {\"Fecha\": \"2024-08\", \"categoria\": \"Colaboraciones\", \"cantidad\": 1.0}, {\"Fecha\": \"2024-01\", \"categoria\": \"Colaboraciones\", \"cantidad\": 1.0}, {\"Fecha\": \"2024-02\", \"categoria\": \"Colaboraciones\", \"cantidad\": 1.0}, {\"Fecha\": \"2024-07\", \"categoria\": \"Colaboraciones\", \"cantidad\": 2.0}, {\"Fecha\": \"2024-06\", \"categoria\": \"Colaboraciones\", \"cantidad\": 2.0}, {\"Fecha\": \"2024-03\", \"categoria\": \"Colaboraciones\", \"cantidad\": 2.0}, {\"Fecha\": \"2024-05\", \"categoria\": \"Colaboraciones\", \"cantidad\": 2.0}, {\"Fecha\": \"2024-10\", \"categoria\": \"Colaboraciones\", \"cantidad\": 1.0}, {\"Fecha\": \"2024-09\", \"categoria\": \"Colaboraciones\", \"cantidad\": 1.0}, {\"Fecha\": \"2020-03\", \"categoria\": \"solos\", \"cantidad\": 0.0}, {\"Fecha\": \"2020-03\", \"categoria\": \"Colaboraciones\", \"cantidad\": 0.0}, {\"Fecha\": \"2020-04\", \"categoria\": \"solos\", \"cantidad\": 0.0}, {\"Fecha\": \"2020-04\", \"categoria\": \"Colaboraciones\", \"cantidad\": 0.0}, {\"Fecha\": \"2020-09\", \"categoria\": \"solos\", \"cantidad\": 0.0}, {\"Fecha\": \"2020-09\", \"categoria\": \"Colaboraciones\", \"cantidad\": 0.0}, {\"Fecha\": \"2021-02\", \"categoria\": \"solos\", \"cantidad\": 0.0}, {\"Fecha\": \"2021-02\", \"categoria\": \"Colaboraciones\", \"cantidad\": 0.0}, {\"Fecha\": \"2021-07\", \"categoria\": \"solos\", \"cantidad\": 0.0}, {\"Fecha\": \"2021-07\", \"categoria\": \"Colaboraciones\", \"cantidad\": 0.0}, {\"Fecha\": \"2021-08\", \"categoria\": \"solos\", \"cantidad\": 0.0}, {\"Fecha\": \"2021-08\", \"categoria\": \"Colaboraciones\", \"cantidad\": 0.0}, {\"Fecha\": \"2021-09\", \"categoria\": \"solos\", \"cantidad\": 0.0}, {\"Fecha\": \"2021-09\", \"categoria\": \"Colaboraciones\", \"cantidad\": 0.0}, {\"Fecha\": \"2021-10\", \"categoria\": \"solos\", \"cantidad\": 0.0}, {\"Fecha\": \"2021-10\", \"categoria\": \"Colaboraciones\", \"cantidad\": 0.0}, {\"Fecha\": \"2021-11\", \"categoria\": \"solos\", \"cantidad\": 0.0}, {\"Fecha\": \"2021-11\", \"categoria\": \"Colaboraciones\", \"cantidad\": 0.0}, {\"Fecha\": \"2021-12\", \"categoria\": \"solos\", \"cantidad\": 0.0}, {\"Fecha\": \"2021-12\", \"categoria\": \"Colaboraciones\", \"cantidad\": 0.0}, {\"Fecha\": \"2022-01\", \"categoria\": \"solos\", \"cantidad\": 0.0}, {\"Fecha\": \"2022-01\", \"categoria\": \"Colaboraciones\", \"cantidad\": 0.0}, {\"Fecha\": \"2022-02\", \"categoria\": \"solos\", \"cantidad\": 0.0}, {\"Fecha\": \"2022-02\", \"categoria\": \"Colaboraciones\", \"cantidad\": 0.0}, {\"Fecha\": \"2022-03\", \"categoria\": \"solos\", \"cantidad\": 0.0}, {\"Fecha\": \"2022-03\", \"categoria\": \"Colaboraciones\", \"cantidad\": 0.0}, {\"Fecha\": \"2022-04\", \"categoria\": \"solos\", \"cantidad\": 0.0}, {\"Fecha\": \"2022-04\", \"categoria\": \"Colaboraciones\", \"cantidad\": 0.0}, {\"Fecha\": \"2022-05\", \"categoria\": \"solos\", \"cantidad\": 0.0}, {\"Fecha\": \"2022-05\", \"categoria\": \"Colaboraciones\", \"cantidad\": 0.0}, {\"Fecha\": \"2022-06\", \"categoria\": \"solos\", \"cantidad\": 0.0}, {\"Fecha\": \"2022-06\", \"categoria\": \"Colaboraciones\", \"cantidad\": 0.0}, {\"Fecha\": \"2023-04\", \"categoria\": \"solos\", \"cantidad\": 0.0}, {\"Fecha\": \"2023-04\", \"categoria\": \"Colaboraciones\", \"cantidad\": 0.0}, {\"Fecha\": \"2023-05\", \"categoria\": \"solos\", \"cantidad\": 0.0}, {\"Fecha\": \"2023-05\", \"categoria\": \"Colaboraciones\", \"cantidad\": 0.0}, {\"Fecha\": \"2023-06\", \"categoria\": \"solos\", \"cantidad\": 0.0}, {\"Fecha\": \"2023-06\", \"categoria\": \"Colaboraciones\", \"cantidad\": 0.0}, {\"Fecha\": \"2023-07\", \"categoria\": \"solos\", \"cantidad\": 0.0}, {\"Fecha\": \"2023-07\", \"categoria\": \"Colaboraciones\", \"cantidad\": 0.0}, {\"Fecha\": \"2023-08\", \"categoria\": \"solos\", \"cantidad\": 0.0}, {\"Fecha\": \"2023-08\", \"categoria\": \"Colaboraciones\", \"cantidad\": 0.0}, {\"Fecha\": \"2023-09\", \"categoria\": \"solos\", \"cantidad\": 0.0}, {\"Fecha\": \"2023-09\", \"categoria\": \"Colaboraciones\", \"cantidad\": 0.0}]}}, {\"mode\": \"vega-lite\"});\n",
              "</script>"
            ],
            "text/plain": [
              "alt.LayerChart(...)"
            ]
          },
          "metadata": {},
          "execution_count": 34
        }
      ]
    }
  ]
}