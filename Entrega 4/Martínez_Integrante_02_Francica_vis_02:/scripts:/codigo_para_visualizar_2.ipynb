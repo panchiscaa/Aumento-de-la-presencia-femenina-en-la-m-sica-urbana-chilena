{
  "cells": [
    {
      "cell_type": "code",
      "execution_count": null,
      "metadata": {
        "id": "Q3KaieCI3qNA"
      },
      "outputs": [],
      "source": []
    },
    {
      "cell_type": "code",
      "execution_count": 4,
      "metadata": {
        "colab": {
          "base_uri": "https://localhost:8080/"
        },
        "id": "EOSp_vhxFsb-",
        "outputId": "556cdf7d-cbe0-4cc6-85a9-10e414a90d39"
      },
      "outputs": [
        {
          "name": "stdout",
          "output_type": "stream",
          "text": [
            "Drive already mounted at /content/drive; to attempt to forcibly remount, call drive.mount(\"/content/drive\", force_remount=True).\n"
          ]
        }
      ],
      "source": [
        "#Este codigo aparecio solo cuando conecte con drive\n",
        "from google.colab import drive\n",
        "drive.mount('/content/drive')"
      ]
    },
    {
      "cell_type": "code",
      "execution_count": 8,
      "metadata": {
        "colab": {
          "base_uri": "https://localhost:8080/"
        },
        "id": "KTfszjlp3sxi",
        "outputId": "f094ffb6-08ae-43a7-8bfb-1df66724ccf6"
      },
      "outputs": [
        {
          "name": "stdout",
          "output_type": "stream",
          "text": [
            "El gráfico se ha guardado como 'visualización1.html'. Ábrelo en un navegador para visualizarlo.\n"
          ]
        },
        {
          "name": "stderr",
          "output_type": "stream",
          "text": [
            "/usr/local/lib/python3.10/dist-packages/altair/utils/core.py:384: FutureWarning: the convert_dtype parameter is deprecated and will be removed in a future version.  Do ``ser.astype(object).apply()`` instead if you want ``convert_dtype=False``.\n",
            "  col = df[col_name].apply(to_list_if_array, convert_dtype=False)\n"
          ]
        }
      ],
      "source": [
        "# Importar bibliotecas necesarias\n",
        "import pandas as pd\n",
        "import altair as alt\n",
        "\n",
        "# Cargar el archivo CSV\n",
        "data = pd.read_csv(\"/content/drive/MyDrive/Colab Notebooks/Martinez_database2.csv\")\n",
        "\n",
        "#Verificar las primeras 2 lineas de datos y elnombre de las columnas\n",
        "data.head(2)\n",
        "\n",
        "# Limpiar y procesar los datos\n",
        "# Eliminar columnas que no aportan valor a la visualización\n",
        "columnas_relevantes = [\"Nombre del artista\", \"Oyentes mensuales en Spotify\", \"Seguidores en spotify (aprox)\", \"Seguidores en Instagram (aprox)\"]\n",
        "datos_filtrados = data[columnas_relevantes].dropna()\n",
        "\n",
        "# Crear un gráfico de barras básico para visualizar Nombre del artista por Oyentes mensuales en Spotify\n",
        "chart = alt.Chart(datos_filtrados).mark_bar().encode(\n",
        "    x=alt.X('Nombre del artista', sort='-y', title='Nombre del artista'),\n",
        "    y=alt.Y('Oyentes mensuales en Spotify', title='Oyentes mensuales en Spotify'),\n",
        "    tooltip=['Nombre del artista', 'Oyentes mensuales en Spotify']\n",
        ").properties(\n",
        "    title='Oyentes mensuales en Spotify por Nombre del artista',\n",
        "    width=600,\n",
        "    height=400\n",
        ")\n",
        "chart\n",
        "\n",
        "# Guardar el gráfico como archivo HTML para visualizarlo en un navegador\n",
        "chart.save('visualización1.html')\n",
        "\n",
        "# Mostrar un mensaje indicando que el archivo ha sido creado\n",
        "print(\"El gráfico se ha guardado como 'visualización1.html'. Ábrelo en un navegador para visualizarlo.\")\n"
      ]
    },
    {
      "cell_type": "code",
      "execution_count": 9,
      "metadata": {
        "colab": {
          "base_uri": "https://localhost:8080/"
        },
        "id": "itUH22RFMRiX",
        "outputId": "31eb7b5f-08ec-44b0-dd73-f4a027f016a2"
      },
      "outputs": [
        {
          "name": "stdout",
          "output_type": "stream",
          "text": [
            "El gráfico se ha guardado como 'visualización2.html'. Ábrelo en un navegador para visualizarlo.\n"
          ]
        },
        {
          "name": "stderr",
          "output_type": "stream",
          "text": [
            "/usr/local/lib/python3.10/dist-packages/altair/utils/core.py:384: FutureWarning: the convert_dtype parameter is deprecated and will be removed in a future version.  Do ``ser.astype(object).apply()`` instead if you want ``convert_dtype=False``.\n",
            "  col = df[col_name].apply(to_list_if_array, convert_dtype=False)\n"
          ]
        }
      ],
      "source": [
        "# Crear un gráfico de barras básico para visualizar Nombre del artista por Seguidores en spotify\n",
        "chart = alt.Chart(datos_filtrados).mark_bar().encode(\n",
        "    x=alt.X('Nombre del artista', sort='-y', title='Nombre del artista'),\n",
        "    y=alt.Y('Seguidores en spotify (aprox)', title='Seguidores en spotify (aprox)'),\n",
        "    tooltip=['Nombre del artista', 'Seguidores en spotify (aprox)']\n",
        ").properties(\n",
        "    title='Seguidores en spotify por Nombre del artista',\n",
        "    width=600,\n",
        "    height=400\n",
        ")\n",
        "\n",
        "chart\n",
        "\n",
        "# Guardar el gráfico como archivo HTML para visualizarlo en un navegador\n",
        "chart.save('visualización2.html')\n",
        "\n",
        "# Mostrar un mensaje indicando que el archivo ha sido creado\n",
        "print(\"El gráfico se ha guardado como 'visualización2.html'. Ábrelo en un navegador para visualizarlo.\")\n"
      ]
    },
    {
      "cell_type": "code",
      "execution_count": 11,
      "metadata": {
        "colab": {
          "base_uri": "https://localhost:8080/"
        },
        "id": "AQjnO8USNVbk",
        "outputId": "f2475444-9efc-4b8c-cafe-cc9bc7f1c80e"
      },
      "outputs": [
        {
          "name": "stdout",
          "output_type": "stream",
          "text": [
            "El gráfico se ha guardado como 'visualización3.html'. Ábrelo en un navegador para visualizarlo.\n"
          ]
        },
        {
          "name": "stderr",
          "output_type": "stream",
          "text": [
            "/usr/local/lib/python3.10/dist-packages/altair/utils/core.py:384: FutureWarning: the convert_dtype parameter is deprecated and will be removed in a future version.  Do ``ser.astype(object).apply()`` instead if you want ``convert_dtype=False``.\n",
            "  col = df[col_name].apply(to_list_if_array, convert_dtype=False)\n"
          ]
        }
      ],
      "source": [
        "# Crear un gráfico de barras básico para visualizar Nombre del artista por Seguidores en Instagram\n",
        "chart = alt.Chart(datos_filtrados).mark_bar().encode(\n",
        "    x=alt.X('Nombre del artista', sort='-y', title='Nombre del artista'),\n",
        "    y=alt.Y('Seguidores en Instagram (aprox)', title='Seguidores en Instagram (aprox)'),\n",
        "    tooltip=['Nombre del artista', 'Seguidores en Instagram (aprox)']\n",
        ").properties(\n",
        "    title='Seguidores en Instagram (aprox) por Nombre del artista',\n",
        "    width=600,\n",
        "    height=400\n",
        ")\n",
        "\n",
        "chart\n",
        "\n",
        "# Guardar el gráfico como archivo HTML para visualizarlo en un navegador\n",
        "chart.save('visualización3.html')\n",
        "\n",
        "# Mostrar un mensaje indicando que el archivo ha sido creado\n",
        "print(\"El gráfico se ha guardado como 'visualización3.html'. Ábrelo en un navegador para visualizarlo.\")\n"
      ]
    }
  ],
  "metadata": {
    "colab": {
      "provenance": []
    },
    "kernelspec": {
      "display_name": "Python 3",
      "name": "python3"
    },
    "language_info": {
      "name": "python"
    }
  },
  "nbformat": 4,
  "nbformat_minor": 0
}
