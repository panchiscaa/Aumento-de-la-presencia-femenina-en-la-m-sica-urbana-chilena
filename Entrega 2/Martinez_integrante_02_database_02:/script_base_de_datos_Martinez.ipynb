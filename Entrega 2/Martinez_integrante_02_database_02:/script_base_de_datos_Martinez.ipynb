{
  "nbformat": 4,
  "nbformat_minor": 0,
  "metadata": {
    "colab": {
      "provenance": []
    },
    "kernelspec": {
      "name": "python3",
      "display_name": "Python 3"
    },
    "language_info": {
      "name": "python"
    }
  },
  "cells": [
    {
      "cell_type": "code",
      "execution_count": 30,
      "metadata": {
        "id": "Dbq7VwF0hgjt",
        "colab": {
          "base_uri": "https://localhost:8080/"
        },
        "outputId": "abd3fc40-a7f5-479e-d216-d558ebd7277c"
      },
      "outputs": [
        {
          "output_type": "stream",
          "name": "stdout",
          "text": [
            "  Nombre del artista  Ano debut  Oyentes mensuales en Spotify  \\\n",
            "0        Paloma Mami       2018                       4437560   \n",
            "1      Princesa Alba       2017                        971128   \n",
            "2            Akriila       2020                        640008   \n",
            "3            Soulfia       2017                        902244   \n",
            "4           Loyaltty       2021                        136606   \n",
            "\n",
            "   Seguidores en spotify (aprox)  Seguidores en Instagram (aprox)  \\\n",
            "0                        1100000                          4300000   \n",
            "1                         228000                           659000   \n",
            "2                          50000                           103000   \n",
            "3                          37000                           160000   \n",
            "4                          13000                           145000   \n",
            "\n",
            "        Artistas femeninas con las que ha colaborado  \\\n",
            "0                                            Ninguna   \n",
            "1  Akriila/Albany/BIBI/Camila Moreno/Duda Beat/Ms...   \n",
            "2  Juicy BAE/Princesa Alba/Taichu/Lilen/Condy/Sou...   \n",
            "3                        KYA/Akriila/Loyaltty/Shirel   \n",
            "4  Denise Rosenthal/Mont/Lizz/Kuina/Paula Rivas/S...   \n",
            "\n",
            "        Artistas maculinos con los que ha colaborado  \\\n",
            "0  Polima Westcoast/Feid/Pailita/De La Ghetto/Pab...   \n",
            "1  Pablo Vittar/Kidd Voodoo/Pimp Flaco/Louta/Gepe...   \n",
            "2  FaceBrooklyn/Broke Carrey/Young Cister/Gianluc...   \n",
            "3  Ceaese/Swift 047/Shine Rivera/Kramps/Benja Val...   \n",
            "4  Erreflex/Juliano Sosa/El Oriental10/Young Kief...   \n",
            "\n",
            "  Tematicas de las canciones (en general) Sub genero musica urbana  \\\n",
            "0                 Empoderamiento femenino           Reggateon/trap   \n",
            "1                 Empoderamiento femenino               Pop urbano   \n",
            "2                         Identidad queer        Neoperreo/Pop rap   \n",
            "3            Empoderamiento femenino/Amor           R&B/Pop urbano   \n",
            "4                           Amor/Juventud           Trap/Reggaeton   \n",
            "\n",
            "  numero de albums                         Top 3 canciones en Spotify  \n",
            "0                1  1. Ultra Solo Remix ft. Polima Westcoast/Paili...  \n",
            "1                3  1. Convencete (79865120) 2. Summer Love ft. Gi...  \n",
            "2                2  1. Arreglo Floral ft. Kidd Voodoo (7160851) 2....  \n",
            "3                1  1. Escarlata Remix ft. Harry Nach/Kidd Voodoo/...  \n",
            "4                1  1. Esperandote ft. Kidd Voodoo (4232226) 2. Pr...  \n"
          ]
        }
      ],
      "source": [
        "#Cargar csv en un Dataframe de Pandas\n",
        "\n",
        "import pandas as pd\n",
        "datos=pd.read_csv(\"/content/drive/MyDrive/ColabNotebooks/Martinez_database2.csv\")\n",
        "\n",
        "print(datos.head(5))\n"
      ]
    }
  ]
}