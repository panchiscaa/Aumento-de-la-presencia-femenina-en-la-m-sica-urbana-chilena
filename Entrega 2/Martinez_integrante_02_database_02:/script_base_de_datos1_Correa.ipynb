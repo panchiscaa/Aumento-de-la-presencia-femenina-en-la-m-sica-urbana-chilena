{
  "nbformat": 4,
  "nbformat_minor": 0,
  "metadata": {
    "colab": {
      "provenance": []
    },
    "kernelspec": {
      "name": "python3",
      "display_name": "Python 3"
    },
    "language_info": {
      "name": "python"
    }
  },
  "cells": [
    {
      "cell_type": "code",
      "execution_count": null,
      "metadata": {
        "colab": {
          "base_uri": "https://localhost:8080/"
        },
        "id": "1BQDuf_kOiN_",
        "outputId": "d06cc92c-d1c3-4894-f86d-32bbe95628bf"
      },
      "outputs": [
        {
          "output_type": "stream",
          "name": "stdout",
          "text": [
            "  Cantantes femeninas en Chile  Ano nacimiento Presencia en spotify  \\\n",
            "0                Ximena Abarca            1981                  Si­   \n",
            "1              Ginette Acevedo            1942                  Si­   \n",
            "2               Magaly Acevedo            1953                   No   \n",
            "3               Connie Achurra            1977                  Si­   \n",
            "4                Claudia Acuna            1971                   Si   \n",
            "\n",
            "  Presencia en Youtube  Edad Ano de exito Canta musica urbana  \\\n",
            "0                   Si    43         2002                  No   \n",
            "1                  Si­    82         2004                  No   \n",
            "2                   No    71         2004                  No   \n",
            "3                   Si    47         2005                  No   \n",
            "4                  Si­    53         2000                  No   \n",
            "\n",
            "   Numero de albumes  \n",
            "0                1.0  \n",
            "1                1.0  \n",
            "2                1.0  \n",
            "3                1.0  \n",
            "4                3.0  \n"
          ]
        }
      ],
      "source": [
        "#Cargar csv en un Dataframe de Pandas\n",
        "\n",
        "import pandas as pd\n",
        "datos=pd.read_csv(\"/content/drive/MyDrive/Colab_Notebooks/Base-de-datos-.csv\")\n",
        "\n",
        "# Imprimir y visualizar las primeras 5 líneas\n",
        "print(datos.head(5))"
      ]
    }
  ]
}