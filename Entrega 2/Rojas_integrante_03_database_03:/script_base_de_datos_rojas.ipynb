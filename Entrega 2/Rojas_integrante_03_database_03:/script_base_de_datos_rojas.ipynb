{
  "nbformat": 4,
  "nbformat_minor": 0,
  "metadata": {
    "colab": {
      "provenance": []
    },
    "kernelspec": {
      "name": "python3",
      "display_name": "Python 3"
    },
    "language_info": {
      "name": "python"
    }
  },
  "cells": [
    {
      "cell_type": "code",
      "execution_count": 11,
      "metadata": {
        "colab": {
          "base_uri": "https://localhost:8080/"
        },
        "id": "NJOM3jpiakVo",
        "outputId": "a27c64df-4eac-47c8-87a0-cebe6396648c"
      },
      "outputs": [
        {
          "output_type": "stream",
          "name": "stdout",
          "text": [
            "    Mes - año  #                                            Artista  \\\n",
            "0  2020 ENERO  1                               KAROL G, Nicki Minaj   \n",
            "1  2020 ENERO  2                        Arcángel, Sech, Dímelo Flow   \n",
            "2  2020 ENERO  3  Dalex, Lenny Tavárez, Chencho Corleone, Juhn, ...   \n",
            "3  2020 ENERO  4                                          Bad Bunny   \n",
            "4  2020 ENERO  5                                Nicky Jam, Anuel AA   \n",
            "\n",
            "         Canción  Clasificación máxima  Semanas en top  Reproducciones  \n",
            "0           Tusa                     1               9         2777807  \n",
            "1  Sigues Con El                     2               4         2019658  \n",
            "2   Hola - Remix                     2              10         1909421  \n",
            "3           Vete                     2               7         1691934  \n",
            "4       Whine Up                     5              11         1520924  \n"
          ]
        }
      ],
      "source": [
        "#Cargar csv en un Dataframe de Pandas\n",
        "\n",
        "import pandas as pd\n",
        "datos=pd.read_csv(\"/content/drive/MyDrive/Colab Notebooks/BASEDATOSVALE.csv\")\n",
        "\n",
        "#Imprimir y visualizar las primeras 5 lineas\n",
        "print(datos.head(5))"
      ]
    }
  ]
}